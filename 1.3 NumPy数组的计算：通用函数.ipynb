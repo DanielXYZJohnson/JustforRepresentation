{
 "cells": [
  {
   "cell_type": "markdown",
   "metadata": {},
   "source": [
    "## **1.3 NumPy数组运算：通用函数**"
   ]
  },
  {
   "cell_type": "markdown",
   "metadata": {},
   "source": [
    "### **1.3.1 缓慢的循环**"
   ]
  },
  {
   "cell_type": "markdown",
   "metadata": {},
   "source": [
    "Python的缓慢通常表现在有很多小操作需要不断的重复，比如对数组中的每个元素做循环操作。假设有一个数组，我们想要计算每个元素的倒数，一种直接的解决方法是："
   ]
  },
  {
   "cell_type": "code",
   "execution_count": 1,
   "metadata": {},
   "outputs": [
    {
     "data": {
      "text/plain": [
       "array([1.        , 0.5       , 0.33333333, 0.25      , 0.2       ])"
      ]
     },
     "execution_count": 1,
     "metadata": {},
     "output_type": "execute_result"
    }
   ],
   "source": [
    "import numpy as np\n",
    "\n",
    "def compute_reciprocals(values):\n",
    "    output = np.empty(len(values))\n",
    "    for i in range(len(values)):\n",
    "        output[i] = 1.0/values[i]\n",
    "    return output\n",
    "\n",
    "values = np.arange(1, 6)\n",
    "compute_reciprocals(values)"
   ]
  },
  {
   "cell_type": "markdown",
   "metadata": {},
   "source": [
    "如果测试的数据集很大时，上述操作将非常耗时。我们用`%timeit`函数来测量："
   ]
  },
  {
   "cell_type": "code",
   "execution_count": 2,
   "metadata": {},
   "outputs": [
    {
     "name": "stdout",
     "output_type": "stream",
     "text": [
      "909 ms ± 24.3 ms per loop (mean ± std. dev. of 7 runs, 1 loop each)\n"
     ]
    }
   ],
   "source": [
    "big_array = np.random.randint(1, 100, size=1000000)\n",
    "%timeit compute_reciprocals(big_array)"
   ]
  },
  {
   "cell_type": "markdown",
   "metadata": {},
   "source": [
    "### **1.3.2 通用函数介绍**"
   ]
  },
  {
   "cell_type": "markdown",
   "metadata": {},
   "source": [
    "对于许多操作，NumPy都为这种静态类型提供了编译好的函数，称为向量化的操作。向量化操作可以简单应用在数组上，实际上会应用在每一个元素上。其实现原理是将循环的部分推送至NumPy之下的编译层，从而提高性能。"
   ]
  },
  {
   "cell_type": "code",
   "execution_count": 3,
   "metadata": {},
   "outputs": [
    {
     "name": "stdout",
     "output_type": "stream",
     "text": [
      "[1.         0.5        0.33333333 0.25       0.2       ]\n",
      "[1.         0.5        0.33333333 0.25       0.2       ]\n"
     ]
    }
   ],
   "source": [
    "print(compute_reciprocals(values))\n",
    "print(1.0/values)"
   ]
  },
  {
   "cell_type": "markdown",
   "metadata": {},
   "source": [
    "如果计算一个大型数组的运算时间，向量化操作比Python循环花费的时间更短："
   ]
  },
  {
   "cell_type": "code",
   "execution_count": 4,
   "metadata": {},
   "outputs": [
    {
     "name": "stdout",
     "output_type": "stream",
     "text": [
      "1.15 s ± 267 ms per loop (mean ± std. dev. of 7 runs, 1 loop each)\n"
     ]
    }
   ],
   "source": [
    "# Python循环\n",
    "%timeit compute_reciprocals(big_array)"
   ]
  },
  {
   "cell_type": "code",
   "execution_count": 5,
   "metadata": {},
   "outputs": [
    {
     "name": "stdout",
     "output_type": "stream",
     "text": [
      "2.03 ms ± 62.9 µs per loop (mean ± std. dev. of 7 runs, 100 loops each)\n"
     ]
    }
   ],
   "source": [
    "# 向量操作\n",
    "%timeit (1.0/big_array)"
   ]
  },
  {
   "cell_type": "markdown",
   "metadata": {},
   "source": [
    "NumPy中的向量化操作是通过通用函数（ufunc）实现的，通用函数的主要目的是在NumPy数组中快速执行重复的元素操作，它非常灵活。之前我们展示了标量和数组的运算，其实也可以对两个数组进行运算："
   ]
  },
  {
   "cell_type": "code",
   "execution_count": 6,
   "metadata": {},
   "outputs": [
    {
     "data": {
      "text/plain": [
       "array([0.        , 0.5       , 0.66666667, 0.75      , 0.8       ])"
      ]
     },
     "execution_count": 6,
     "metadata": {},
     "output_type": "execute_result"
    }
   ],
   "source": [
    "np.arange(5)/np.arange(1, 6)"
   ]
  },
  {
   "cell_type": "markdown",
   "metadata": {},
   "source": [
    "通用函数并不仅限于一维数组的运算，也可以进行多维数组的运算："
   ]
  },
  {
   "cell_type": "code",
   "execution_count": 7,
   "metadata": {},
   "outputs": [
    {
     "data": {
      "text/plain": [
       "array([[0, 1, 2],\n",
       "       [3, 4, 5],\n",
       "       [6, 7, 8]])"
      ]
     },
     "execution_count": 7,
     "metadata": {},
     "output_type": "execute_result"
    }
   ],
   "source": [
    "arr = np.arange(9).reshape((3, 3))\n",
    "arr"
   ]
  },
  {
   "cell_type": "code",
   "execution_count": 8,
   "metadata": {},
   "outputs": [
    {
     "data": {
      "text/plain": [
       "array([[  1,   2,   4],\n",
       "       [  8,  16,  32],\n",
       "       [ 64, 128, 256]], dtype=int32)"
      ]
     },
     "execution_count": 8,
     "metadata": {},
     "output_type": "execute_result"
    }
   ],
   "source": [
    "2**arr"
   ]
  },
  {
   "cell_type": "markdown",
   "metadata": {},
   "source": [
    "使用通用函数进行向量化计算几乎总是比用Python循环实现的计算更加高效，尤其是当数组很大时。"
   ]
  },
  {
   "cell_type": "markdown",
   "metadata": {},
   "source": [
    "### **1.3.3 探索NumPy的通用函数**"
   ]
  },
  {
   "cell_type": "markdown",
   "metadata": {},
   "source": [
    "通用函数用两种类型：\n",
    "\n",
    "- 一元通用函数对单个输入值进行操作\n",
    "- 二元通用函数对两个输入值进行操作"
   ]
  },
  {
   "cell_type": "markdown",
   "metadata": {},
   "source": [
    "#### **数组运算**"
   ]
  },
  {
   "cell_type": "markdown",
   "metadata": {},
   "source": [
    "NumPy通用函数的使用方法非常自然，因为它用到了Python原生的算术运算符。标准的加、减、乘、除都可以使用："
   ]
  },
  {
   "cell_type": "code",
   "execution_count": 9,
   "metadata": {},
   "outputs": [
    {
     "data": {
      "text/plain": [
       "array([1, 2, 3, 4, 5, 6, 7])"
      ]
     },
     "execution_count": 9,
     "metadata": {},
     "output_type": "execute_result"
    }
   ],
   "source": [
    "arr1 = np.arange(1, 8)\n",
    "arr1"
   ]
  },
  {
   "cell_type": "code",
   "execution_count": 10,
   "metadata": {},
   "outputs": [
    {
     "name": "stdout",
     "output_type": "stream",
     "text": [
      "arr1 =  [1 2 3 4 5 6 7]\n",
      "arr1+5  =  [ 6  7  8  9 10 11 12]\n",
      "arr1-5  =  [-4 -3 -2 -1  0  1  2]\n",
      "arr1*2  =  [ 2  4  6  8 10 12 14]\n",
      "arr1/2  =  [0.5 1.  1.5 2.  2.5 3.  3.5]\n",
      "arr1//2 =  [0 1 1 2 2 3 3]\n"
     ]
    }
   ],
   "source": [
    "# 加、减、乘、除\n",
    "print('arr1 = ', arr1)\n",
    "print('arr1+5  = ', arr1+5)\n",
    "print('arr1-5  = ', arr1-5)\n",
    "print('arr1*2  = ', arr1*2)\n",
    "print('arr1/2  = ', arr1/2)\n",
    "# 地板除法运算（只取整数部分）\n",
    "print('arr1//2 = ', arr1//2)"
   ]
  },
  {
   "cell_type": "markdown",
   "metadata": {},
   "source": [
    "还有`-`（取负运算符）、`**`（指数运算符）和`%`（模运算符）这些一元通用函数："
   ]
  },
  {
   "cell_type": "code",
   "execution_count": 11,
   "metadata": {},
   "outputs": [
    {
     "name": "stdout",
     "output_type": "stream",
     "text": [
      "arr1 =  [1 2 3 4 5 6 7]\n",
      "-arr1 =  [-1 -2 -3 -4 -5 -6 -7]\n",
      "arr1**2 =  [ 1  4  9 16 25 36 49]\n",
      "arr1%3 =  [1 2 0 1 2 0 1]\n"
     ]
    }
   ],
   "source": [
    "print('arr1 = ', arr1)\n",
    "# 取负运算\n",
    "print('-arr1 = ', -arr1)\n",
    "# 指数运算\n",
    "print('arr1**2 = ', arr1**2)\n",
    "# 取模运算\n",
    "print('arr1%3 = ', arr1%3)"
   ]
  },
  {
   "cell_type": "markdown",
   "metadata": {},
   "source": [
    "当然，我们也可以将这些算术运算符组合使用（需要考虑这些运算符的优先级）："
   ]
  },
  {
   "cell_type": "code",
   "execution_count": 12,
   "metadata": {},
   "outputs": [
    {
     "data": {
      "text/plain": [
       "array([ -2.25,  -4.  ,  -6.25,  -9.  , -12.25, -16.  , -20.25])"
      ]
     },
     "execution_count": 12,
     "metadata": {},
     "output_type": "execute_result"
    }
   ],
   "source": [
    "-(0.5*arr1+1)**2"
   ]
  },
  {
   "cell_type": "markdown",
   "metadata": {},
   "source": [
    "所有这些算术运算符都是NumPy内置函数的简单封装。例如，`+`运算符就是一个`add`函数的封装："
   ]
  },
  {
   "cell_type": "code",
   "execution_count": 13,
   "metadata": {},
   "outputs": [
    {
     "data": {
      "text/plain": [
       "array([ 6,  7,  8,  9, 10, 11, 12])"
      ]
     },
     "execution_count": 13,
     "metadata": {},
     "output_type": "execute_result"
    }
   ],
   "source": [
    "np.add(arr1, 5)"
   ]
  },
  {
   "cell_type": "markdown",
   "metadata": {},
   "source": [
    "下表列出了所有NumPy实现的算术运算符："
   ]
  },
  {
   "cell_type": "markdown",
   "metadata": {},
   "source": [
    "| 运算符 | 对应的通用函数 | 说明 |\n",
    "|--------|---------------|--------------------------|\n",
    "| +      | np.add           | 加法（例如 1+1=2）   |\n",
    "| -      | np.subtract      | 减法（例如 3-2=1）   |\n",
    "| -      | np.negative      | 一元取负（例如 -2）      |\n",
    "| *      | np.multiply      | 乘法（例如 2*3=6）   |\n",
    "| /      | np.divide        | 除法（例如 3/2=1.5） |\n",
    "| //     | np.floor_divide  | 整除（例如 3//2=1）  |\n",
    "| **     | np.power         | 求幂（例如 2**3=8）  |\n",
    "| %      | np.mod           | 取模（例如 9%4=1）   |"
   ]
  },
  {
   "cell_type": "markdown",
   "metadata": {},
   "source": [
    "除此之外还有布尔和二进制位操作，我们将在[比较、掩码和布尔逻辑](./1.6%20比较、掩码和布尔逻辑.ipynb)中进行介绍。"
   ]
  },
  {
   "cell_type": "markdown",
   "metadata": {},
   "source": [
    "#### **绝对值**"
   ]
  },
  {
   "cell_type": "markdown",
   "metadata": {},
   "source": [
    "正如NumPy可理解Python内置的算术运算操作，NumPy也可以理解Python内置的绝对值函数："
   ]
  },
  {
   "cell_type": "code",
   "execution_count": 14,
   "metadata": {},
   "outputs": [
    {
     "data": {
      "text/plain": [
       "array([-10,  -9,  -8,  -7,  -6,  -5,  -4,  -3,  -2,  -1,   0])"
      ]
     },
     "execution_count": 14,
     "metadata": {},
     "output_type": "execute_result"
    }
   ],
   "source": [
    "arr2 = np.arange(-10, 1)\n",
    "arr2"
   ]
  },
  {
   "cell_type": "code",
   "execution_count": 15,
   "metadata": {},
   "outputs": [
    {
     "data": {
      "text/plain": [
       "array([10,  9,  8,  7,  6,  5,  4,  3,  2,  1,  0])"
      ]
     },
     "execution_count": 15,
     "metadata": {},
     "output_type": "execute_result"
    }
   ],
   "source": [
    "abs(arr2)"
   ]
  },
  {
   "cell_type": "markdown",
   "metadata": {},
   "source": [
    "对应的NumPy通用函数是`np.absolute`，该函数还有一个简写形式`np.abs`："
   ]
  },
  {
   "cell_type": "code",
   "execution_count": 16,
   "metadata": {},
   "outputs": [
    {
     "data": {
      "text/plain": [
       "array([10,  9,  8,  7,  6,  5,  4,  3,  2,  1,  0])"
      ]
     },
     "execution_count": 16,
     "metadata": {},
     "output_type": "execute_result"
    }
   ],
   "source": [
    "np.abs(arr2)"
   ]
  },
  {
   "cell_type": "code",
   "execution_count": 17,
   "metadata": {},
   "outputs": [
    {
     "data": {
      "text/plain": [
       "array([10,  9,  8,  7,  6,  5,  4,  3,  2,  1,  0])"
      ]
     },
     "execution_count": 17,
     "metadata": {},
     "output_type": "execute_result"
    }
   ],
   "source": [
    "np.absolute(arr2)"
   ]
  },
  {
   "cell_type": "markdown",
   "metadata": {},
   "source": [
    "该通用函数也可以处理复数。当处理复数时，绝对值返回的是该复数的模："
   ]
  },
  {
   "cell_type": "code",
   "execution_count": 18,
   "metadata": {},
   "outputs": [
    {
     "data": {
      "text/plain": [
       "array([ 5.        ,  5.        ,  3.60555128, 10.        ])"
      ]
     },
     "execution_count": 18,
     "metadata": {},
     "output_type": "execute_result"
    }
   ],
   "source": [
    "arr2 = np.array([3-4j, 4-3j, 2+3j, 6+8j])\n",
    "np.abs(arr2)"
   ]
  },
  {
   "cell_type": "markdown",
   "metadata": {},
   "source": [
    "#### **三角函数**"
   ]
  },
  {
   "cell_type": "markdown",
   "metadata": {},
   "source": [
    "NumPy提供了大量有用的通用函数，对于数据科学家来说非常有用的还包括三角函数。我们首先定义一个角度数组："
   ]
  },
  {
   "cell_type": "code",
   "execution_count": 19,
   "metadata": {},
   "outputs": [
    {
     "data": {
      "text/plain": [
       "array([0.        , 1.57079633, 3.14159265])"
      ]
     },
     "execution_count": 19,
     "metadata": {},
     "output_type": "execute_result"
    }
   ],
   "source": [
    "theta = np.linspace(0, np.pi, 3)\n",
    "theta"
   ]
  },
  {
   "cell_type": "markdown",
   "metadata": {},
   "source": [
    "现在可以对这些值进行一些三角函数计算："
   ]
  },
  {
   "cell_type": "code",
   "execution_count": 20,
   "metadata": {},
   "outputs": [
    {
     "name": "stdout",
     "output_type": "stream",
     "text": [
      "theta      =  [0.         1.57079633 3.14159265]\n",
      "sin(theta) =  [0.0000000e+00 1.0000000e+00 1.2246468e-16]\n",
      "cos(theta) =  [ 1.000000e+00  6.123234e-17 -1.000000e+00]\n",
      "tan(theta) =  [ 0.00000000e+00  1.63312394e+16 -1.22464680e-16]\n"
     ]
    }
   ],
   "source": [
    "print('theta      = ', theta)\n",
    "print('sin(theta) = ', np.sin(theta))\n",
    "print('cos(theta) = ', np.cos(theta))\n",
    "print('tan(theta) = ', np.tan(theta))"
   ]
  },
  {
   "cell_type": "markdown",
   "metadata": {},
   "source": [
    "计算得到的值受到计算机浮点数精度的限制，所以有些应该是0的值并不精确地等于0。逆三角函数同样可以使用："
   ]
  },
  {
   "cell_type": "code",
   "execution_count": 21,
   "metadata": {},
   "outputs": [
    {
     "name": "stdout",
     "output_type": "stream",
     "text": [
      "arr1         =  [-1  0  1]\n",
      "arcsin(arr1) =  [-1.57079633  0.          1.57079633]\n",
      "arccos(arr1) =  [3.14159265 1.57079633 0.        ]\n",
      "arctan(arr1) =  [-0.78539816  0.          0.78539816]\n"
     ]
    }
   ],
   "source": [
    "# 逆三角函数同样可以使用\n",
    "arr3 = np.array([-1, 0, 1])\n",
    "print('arr1         = ', arr3)\n",
    "print('arcsin(arr1) = ', np.arcsin(arr3))\n",
    "print('arccos(arr1) = ', np.arccos(arr3))\n",
    "print('arctan(arr1) = ', np.arctan(arr3))"
   ]
  },
  {
   "cell_type": "markdown",
   "metadata": {},
   "source": [
    "#### **指数和对数**"
   ]
  },
  {
   "cell_type": "markdown",
   "metadata": {},
   "source": [
    "NumPy中另一个常用的操作是指数运算："
   ]
  },
  {
   "cell_type": "code",
   "execution_count": 22,
   "metadata": {},
   "outputs": [
    {
     "name": "stdout",
     "output_type": "stream",
     "text": [
      "arr1 =  [1 2 3 4]\n",
      "e^x  =  [ 2.71828183  7.3890561  20.08553692 54.59815003]\n",
      "2^x  =  [ 2.  4.  8. 16.]\n",
      "3^x  =  [ 3  9 27 81]\n"
     ]
    }
   ],
   "source": [
    "arr4 = np.arange(1, 5)\n",
    "print('arr1 = ', arr4)\n",
    "print('e^x  = ', np.exp(arr4))\n",
    "print('2^x  = ', np.exp2(arr4))\n",
    "print('3^x  = ', np.power(3, arr4))"
   ]
  },
  {
   "cell_type": "markdown",
   "metadata": {},
   "source": [
    "指数运算的逆运算，即对数运算也是可用的。最基本的`np.log`是以自然数为底数的对数。以2为底或以10为底可按以下示例处理："
   ]
  },
  {
   "cell_type": "code",
   "execution_count": 23,
   "metadata": {},
   "outputs": [
    {
     "name": "stdout",
     "output_type": "stream",
     "text": [
      "arr2        =  [1 2 3 4]\n",
      "ln(arr2)    =  [0.         0.69314718 1.09861229 1.38629436]\n",
      "log2(arr2)  =  [0.        1.        1.5849625 2.       ]\n",
      "log10(arr2) =  [0.         0.30103    0.47712125 0.60205999]\n"
     ]
    }
   ],
   "source": [
    "arr5 = np.arange(1, 5)\n",
    "print('arr2        = ', arr5)\n",
    "print('ln(arr2)    = ', np.log(arr5))\n",
    "print('log2(arr2)  = ', np.log2(arr5))\n",
    "print('log10(arr2) = ', np.log10(arr5))"
   ]
  },
  {
   "cell_type": "markdown",
   "metadata": {},
   "source": [
    "还有一些特殊的版本，对于非常小的输入值可以保持较好的精度："
   ]
  },
  {
   "cell_type": "code",
   "execution_count": 24,
   "metadata": {},
   "outputs": [
    {
     "name": "stdout",
     "output_type": "stream",
     "text": [
      "exp(arr3) - 1 =  [0.         0.10517092 0.01005017 0.0010005 ]\n",
      "log(1 + arr3) =  [0.         0.09531018 0.00995033 0.0009995 ]\n"
     ]
    }
   ],
   "source": [
    "arr6 = np.array([0, 0.1, 0.01, 0.001])\n",
    "print('exp(arr3) - 1 = ', np.expm1(arr6))\n",
    "print('log(1 + arr3) = ', np.log1p(arr6))"
   ]
  },
  {
   "cell_type": "markdown",
   "metadata": {},
   "source": [
    "当输入的值很小时，以上函数给出的值比`np.log`和`np.exp`的计算更精确。"
   ]
  },
  {
   "cell_type": "markdown",
   "metadata": {},
   "source": [
    "#### **专用的通用函数**"
   ]
  },
  {
   "cell_type": "markdown",
   "metadata": {},
   "source": [
    "除了上述函数，NumPy还提供了很多通用函数，包括双曲三角函数、比特位运算、弧度转换为角度等等，想了解更多可浏览[NumPy的在线文档](https://numpy.org/doc/stable/)。\n",
    "\n",
    "在`scipy.special`模块中还有一个更加特殊且难懂的通用函数（如果需要使用到晦涩的数学函数来处理相关数据，基本都可以在这个模块中找到）。"
   ]
  },
  {
   "cell_type": "code",
   "execution_count": 25,
   "metadata": {},
   "outputs": [
    {
     "name": "stdout",
     "output_type": "stream",
     "text": [
      "Gamma(arr1)     =  [1.0000e+00 2.4000e+01 3.6288e+05]\n",
      "ln|Gamma(arr1)| =  [ 0.          3.17805383 12.80182748]\n",
      "beta(arr1, 2)   =  [0.5        0.03333333 0.00909091]\n"
     ]
    }
   ],
   "source": [
    "from scipy import special\n",
    "\n",
    "# Gamma函数（广义阶乘）和相关函数\n",
    "arr1 = np.array([1, 5, 10])\n",
    "# Gamma函数\n",
    "print('Gamma(arr1)     = ', special.gamma(arr1))\n",
    "# Gamma函数的自然对数\n",
    "print('ln|Gamma(arr1)| = ', special.gammaln(arr1))\n",
    "# Beta函数（第一类欧拉积分）\n",
    "print('beta(arr1, 2)   = ', special.beta(arr1, 2))"
   ]
  },
  {
   "cell_type": "code",
   "execution_count": 26,
   "metadata": {},
   "outputs": [
    {
     "name": "stdout",
     "output_type": "stream",
     "text": [
      "erf(x)    = [0.         0.32862676 0.67780119 0.84270079]\n",
      "erfc(x)   = [1.         0.67137324 0.32219881 0.15729921]\n",
      "erfinv(x) = [0.         0.27246271 0.73286908        inf]\n"
     ]
    }
   ],
   "source": [
    "# 误差函数（高斯函数积分）\n",
    "# 互补误差函数，逆误差函数\n",
    "x = np.array([0, 0.3, 0.7, 1.0])\n",
    "# 误差函数\n",
    "print(\"erf(x)    =\", special.erf(x))\n",
    "# 互补误差函数\n",
    "print(\"erfc(x)   =\", special.erfc(x))\n",
    "# 逆误差函数\n",
    "print(\"erfinv(x) =\", special.erfinv(x))"
   ]
  },
  {
   "cell_type": "markdown",
   "metadata": {},
   "source": [
    "`scipy.special`模块中还有很多其它的通用函数，想进一步了解可查询[在线文档](https://docs.scipy.org/doc/scipy/reference/special.html)。"
   ]
  },
  {
   "cell_type": "markdown",
   "metadata": {},
   "source": [
    "### **1.3.4 高级的通用函数特性**"
   ]
  },
  {
   "cell_type": "markdown",
   "metadata": {},
   "source": [
    "#### **指定输出**"
   ]
  },
  {
   "cell_type": "markdown",
   "metadata": {},
   "source": [
    "在进行大量计算时，有时候指定一个用于存放运算结果的数组是非常有用的。不同于创建临时数组，我们可以用这个特性将计算结果直接写入到我们期待的存储位置。所有的通用函数都可以通过`out`参数来指定计算结果的存放位置："
   ]
  },
  {
   "cell_type": "code",
   "execution_count": 27,
   "metadata": {},
   "outputs": [
    {
     "data": {
      "text/plain": [
       "array([10., 20., 30., 40., 50., 60.])"
      ]
     },
     "execution_count": 27,
     "metadata": {},
     "output_type": "execute_result"
    }
   ],
   "source": [
    "arr1 = np.arange(1, 7)\n",
    "arr2 = np.empty(6)\n",
    "np.multiply(arr1, 10, out=arr2)\n",
    "arr2"
   ]
  },
  {
   "cell_type": "markdown",
   "metadata": {},
   "source": [
    "输出结果甚至可以指定为数组的视图，例如，我们可以将计算结果隔一个元素写入到一个数组中："
   ]
  },
  {
   "cell_type": "code",
   "execution_count": 28,
   "metadata": {},
   "outputs": [
    {
     "data": {
      "text/plain": [
       "array([ 2.,  0.,  4.,  0.,  8.,  0., 16.,  0., 32.,  0., 64.,  0.])"
      ]
     },
     "execution_count": 28,
     "metadata": {},
     "output_type": "execute_result"
    }
   ],
   "source": [
    "arr3 = np.zeros(12)\n",
    "np.power(2, arr1, out=arr3[::2])\n",
    "arr3"
   ]
  },
  {
   "cell_type": "markdown",
   "metadata": {},
   "source": [
    "如果这里没有使用`out`参数，而是写成`arr3[::2] = 2**arr1`，那么结果将是创建一个临时数组用来存储`2**arr1`，然后再将这些值复制到arr3数组中\n",
    "\n",
    "上述例子的计算量比较小，是否使用`out`参数其实差别并不大，但是对于较大的数组，使用`out`参数能节省很多内存空间"
   ]
  },
  {
   "cell_type": "markdown",
   "metadata": {},
   "source": [
    "#### **聚合**"
   ]
  },
  {
   "cell_type": "markdown",
   "metadata": {},
   "source": [
    "二元通用函数有些非常有趣的聚合功能，这些聚合可以直接在数组对象上计算。如果我们希望`reduce`一个数组，那么可以对任何通用函数应用`reduce`方法。`reduce`方法会重复在数组的每一个元素进行通用函数操作，直到得到单个结果。\n",
    "\n",
    "例如，如`add`通用函数调用`reduce`方法会返回数组中所有元素的和："
   ]
  },
  {
   "cell_type": "code",
   "execution_count": 29,
   "metadata": {},
   "outputs": [
    {
     "data": {
      "text/plain": [
       "15"
      ]
     },
     "execution_count": 29,
     "metadata": {},
     "output_type": "execute_result"
    }
   ],
   "source": [
    "arr1 = np.arange(1, 6)\n",
    "# 1+2+3+4+5 = 15\n",
    "np.add.reduce(arr1)"
   ]
  },
  {
   "cell_type": "markdown",
   "metadata": {},
   "source": [
    "同样，对`multiply`通用函数调用`reduce`方法会返回数组中所有元素的乘积："
   ]
  },
  {
   "cell_type": "code",
   "execution_count": 30,
   "metadata": {},
   "outputs": [
    {
     "data": {
      "text/plain": [
       "120"
      ]
     },
     "execution_count": 30,
     "metadata": {},
     "output_type": "execute_result"
    }
   ],
   "source": [
    "# 1*2*3*4*5 = 120\n",
    "np.multiply.reduce(arr1)"
   ]
  },
  {
   "cell_type": "markdown",
   "metadata": {},
   "source": [
    "如果需要存储每次计算的中间结果，可以使用`accumulate`方法："
   ]
  },
  {
   "cell_type": "code",
   "execution_count": 31,
   "metadata": {},
   "outputs": [
    {
     "data": {
      "text/plain": [
       "array([ 1,  3,  6, 10, 15])"
      ]
     },
     "execution_count": 31,
     "metadata": {},
     "output_type": "execute_result"
    }
   ],
   "source": [
    "np.add.accumulate(arr1)"
   ]
  },
  {
   "cell_type": "code",
   "execution_count": 32,
   "metadata": {},
   "outputs": [
    {
     "data": {
      "text/plain": [
       "array([  1,   2,   6,  24, 120])"
      ]
     },
     "execution_count": 32,
     "metadata": {},
     "output_type": "execute_result"
    }
   ],
   "source": [
    "np.multiply.accumulate(arr1)"
   ]
  },
  {
   "cell_type": "markdown",
   "metadata": {},
   "source": [
    "注意，对于以上这种特殊情况，NumPy也提供了相应的函数直接计算结果（`np.sum`、`np.prod`、`np.cumsum`、`np.cumprod`），我们会在[聚合：最小值、最大值和其他值](./1.4%20聚合：最小值、最大值和其他值.ipynb)中进行详细介绍。"
   ]
  },
  {
   "cell_type": "markdown",
   "metadata": {},
   "source": [
    "#### **外积**"
   ]
  },
  {
   "cell_type": "markdown",
   "metadata": {},
   "source": [
    "最后，任何通用函数都可以使用`outer`方法计算所有两个不同输入对的函数运算结果。这意味着我们可以用一行代码实现一个乘法表："
   ]
  },
  {
   "cell_type": "code",
   "execution_count": 33,
   "metadata": {},
   "outputs": [
    {
     "data": {
      "text/plain": [
       "array([[ 1,  2,  3,  4,  5,  6,  7,  8,  9],\n",
       "       [ 2,  4,  6,  8, 10, 12, 14, 16, 18],\n",
       "       [ 3,  6,  9, 12, 15, 18, 21, 24, 27],\n",
       "       [ 4,  8, 12, 16, 20, 24, 28, 32, 36],\n",
       "       [ 5, 10, 15, 20, 25, 30, 35, 40, 45],\n",
       "       [ 6, 12, 18, 24, 30, 36, 42, 48, 54],\n",
       "       [ 7, 14, 21, 28, 35, 42, 49, 56, 63],\n",
       "       [ 8, 16, 24, 32, 40, 48, 56, 64, 72],\n",
       "       [ 9, 18, 27, 36, 45, 54, 63, 72, 81]])"
      ]
     },
     "execution_count": 33,
     "metadata": {},
     "output_type": "execute_result"
    }
   ],
   "source": [
    "arr1 = np.arange(1, 10)\n",
    "np.multiply.outer(arr1, arr1)"
   ]
  },
  {
   "cell_type": "markdown",
   "metadata": {},
   "source": [
    "`ufunc.at`和`ufunc.reduceat`方法也非常有用，我们会在[花哨的索引](./1.7%20花哨的索引.ipynb)中进行介绍。\n",
    "\n",
    "通用函数还有一个很有用的特性，能让通用函数在不同长度和形状的数组之间进行计算，这种方法被称为广播。这是一个非常重要的内容，我们会专门在[数组的计算：广播](./1.5%20数值的计算：广播.ipynb)小节中进行介绍。"
   ]
  },
  {
   "cell_type": "markdown",
   "metadata": {},
   "source": [
    "### **1.3.5 通用函数：更多信息**"
   ]
  },
  {
   "cell_type": "markdown",
   "metadata": {},
   "source": [
    "有关通用函数的更多信息（包括可用的通用函数的完整列表）可以在[在线文档](https://numpy.org/doc/stable/reference/ufuncs.html)中找到。"
   ]
  }
 ],
 "metadata": {
  "kernelspec": {
   "display_name": "Python 3 (ipykernel)",
   "language": "python",
   "name": "python3"
  },
  "language_info": {
   "codemirror_mode": {
    "name": "ipython",
    "version": 3
   },
   "file_extension": ".py",
   "mimetype": "text/x-python",
   "name": "python",
   "nbconvert_exporter": "python",
   "pygments_lexer": "ipython3",
   "version": "3.9.13"
  }
 },
 "nbformat": 4,
 "nbformat_minor": 2
}
